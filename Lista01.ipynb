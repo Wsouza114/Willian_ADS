{
  "nbformat": 4,
  "nbformat_minor": 0,
  "metadata": {
    "colab": {
      "provenance": [],
      "toc_visible": true,
      "authorship_tag": "ABX9TyOeO6DlrqKNRzzpNpFf+boN",
      "include_colab_link": true
    },
    "kernelspec": {
      "name": "python3",
      "display_name": "Python 3"
    },
    "language_info": {
      "name": "python"
    }
  },
  "cells": [
    {
      "cell_type": "markdown",
      "metadata": {
        "id": "view-in-github",
        "colab_type": "text"
      },
      "source": [
        "<a href=\"https://colab.research.google.com/github/Wsouza114/Willian_ADS/blob/main/Lista01.ipynb\" target=\"_parent\"><img src=\"https://colab.research.google.com/assets/colab-badge.svg\" alt=\"Open In Colab\"/></a>"
      ]
    },
    {
      "cell_type": "code",
      "execution_count": null,
      "metadata": {
        "id": "IT5Qc4UiED6b"
      },
      "outputs": [],
      "source": [
        "n1 = int(input(\"Digite um número inteiro: \"))\n",
        "print(n1)\n",
        "n2 = int(input(\"Digite o segundo número inteiro: \"))\n",
        "print(n2)\n",
        "n3 = int(input(\"Digite o terceiro número inteiro: \"))\n",
        "print(n3)\n",
        "if (n1>n2) and (n1>n3):\n",
        "  print(n1, \"é o maior número\")\n",
        "elif(n2>n1) and (n2>n3):\n",
        "  print(n2, \"é o maior número\")\n",
        "else:\n",
        "  print(n3, \"é o maior número: \")\n",
        "     "
      ]
    },
    {
      "cell_type": "code",
      "source": [
        "n1 = int(input(\"Digite um número qualquer inteiro: \"))\n",
        "print(n1)\n",
        "if (n1 % 2 == 0):\n",
        "  print(n1, \"é um número par\")\n",
        "else:\n",
        "  print(n1, \"é um número impar\")  "
      ],
      "metadata": {
        "id": "8hUQ4Mv8Mdvv",
        "colab": {
          "base_uri": "https://localhost:8080/"
        },
        "outputId": "334b745b-4186-4047-8edd-6d2f15d9db2b"
      },
      "execution_count": null,
      "outputs": [
        {
          "output_type": "stream",
          "name": "stdout",
          "text": [
            "Digite um número qualquer inteiro: 58\n",
            "58\n",
            "58 é um número par\n"
          ]
        }
      ]
    },
    {
      "cell_type": "code",
      "source": [
        "print(\"Bem vindo ao Sistema de lançamento de misseis!\")\n",
        "print(\"Digite as coordenadas: \")\n",
        "x = int(input(\"Digite a coordenada x: \"))\n",
        "y = int(input(\"Digite a coordenada y: \"))\n",
        "print(\"x = \",x)\n",
        "print(\"y = \",y)\n",
        "if (x >= -800 and x <= 22 and y >= -20 and y <= 35):\n",
        "  print(\"Coordenadas dentro do país\")\n",
        "else:\n",
        "  print(\"Coordenadas fora do país\")  "
      ],
      "metadata": {
        "id": "srOh61Dz_85p"
      },
      "execution_count": null,
      "outputs": []
    }
  ]
}